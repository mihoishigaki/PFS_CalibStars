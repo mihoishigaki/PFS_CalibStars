{
 "cells": [
  {
   "cell_type": "code",
   "execution_count": 1,
   "id": "respiratory-mystery",
   "metadata": {},
   "outputs": [],
   "source": [
    "%matplotlib inline\n",
    "\n",
    "%load_ext autoreload\n",
    "%autoreload 2\n",
    "\n",
    "import imp\n",
    "import os, glob,sys,pprint\n",
    "import numpy as np\n",
    "import matplotlib.pyplot as plt\n",
    "\n",
    "import synphot\n",
    "from astropy.utils.data import get_pkg_data_filename\n",
    "from astropy.io import ascii,fits\n",
    "import pandas as pd\n",
    "\n",
    "\n",
    "from pfsspecsim import pfsetc\n",
    "from pfsspecsim import pfsspec\n",
    "\n",
    "\n",
    "# Please specify a place where the codes are located \n",
    "pfs_calibstars_dir = '/Users/ishigakimiho/PFS/Github/pfs_calibstars'\n",
    "sys.path.append(pfs_calibstars_dir)\n",
    "\n",
    "\n",
    "database_dir = \"../../pfs_calibstars_data/database\"\n",
    "output_dir = \"../../pfs_calibstars_data/outputs\"\n",
    "\n",
    "import pfs_calibstars as cs\n",
    "\n",
    "\n"
   ]
  },
  {
   "cell_type": "code",
   "execution_count": 5,
   "id": "worth-still",
   "metadata": {},
   "outputs": [
    {
     "name": "stderr",
     "output_type": "stream",
     "text": [
      "WARNING: Source spectrum will be extrapolated (at constant value for empirical model). [synphot.observation]\n",
      "/Users/ishigakimiho/opt/anaconda3/lib/python3.7/site-packages/astropy/units/function/logarithmic.py:46: RuntimeWarning: divide by zero encountered in log10\n",
      "  return dex.to(self._function_unit, np.log10(x))\n"
     ]
    },
    {
     "name": "stdout",
     "output_type": "stream",
     "text": [
      "Kokomade4\n"
     ]
    },
    {
     "data": {
      "image/png": "[encoded data removed]",
      "text/plain": [
       "<Figure size 432x288 with 1 Axes>"
      ]
     },
     "metadata": {
      "needs_background": "light"
     },
     "output_type": "display_data"
    }
   ],
   "source": [
    "synspecpath = database_dir + \"/HDS/00081/Synspec/\"\n",
    "synspecfile = synspecpath + \"WL_Flux_Error_BD+292356_Teff4827_logg1.6_MH-1.7_Vrad0.0.txt\"\n",
    "w, f = np.loadtxt(synspecfile, usecols = (0, 1), unpack = True)\n",
    "band = \"sdss_g\"\n",
    "mag = 17.\n",
    "\n",
    "wv, mag = cs.flux2ABmag(w, f, band, mag)\n",
    "\n",
    "plt.plot(wv, mag)\n",
    "plt.show()\n"
   ]
  },
  {
   "cell_type": "code",
   "execution_count": null,
   "id": "periodic-snapshot",
   "metadata": {},
   "outputs": [],
   "source": []
  }
 ],
 "metadata": {
  "kernelspec": {
   "display_name": "Python 3",
   "language": "python",
   "name": "python3"
  },
  "language_info": {
   "codemirror_mode": {
    "name": "ipython",
    "version": 3
   },
   "file_extension": ".py",
   "mimetype": "text/x-python",
   "name": "python",
   "nbconvert_exporter": "python",
   "pygments_lexer": "ipython3",
   "version": "3.7.6"
  }
 },
 "nbformat": 4,
 "nbformat_minor": 5
}
