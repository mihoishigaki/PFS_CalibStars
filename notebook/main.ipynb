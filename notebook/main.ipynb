{
 "cells": [
  {
   "cell_type": "code",
   "execution_count": 8,
   "metadata": {},
   "outputs": [
    {
     "name": "stdout",
     "output_type": "stream",
     "text": [
      "The autoreload extension is already loaded. To reload it, use:\n",
      "  %reload_ext autoreload\n"
     ]
    }
   ],
   "source": [
    "%matplotlib inline\n",
    "\n",
    "%load_ext autoreload\n",
    "%autoreload 2\n",
    "\n",
    "import imp\n",
    "import os, glob,sys,pprint\n",
    "import numpy as np\n",
    "import matplotlib.pyplot as plt\n",
    "\n",
    "import synphot\n",
    "from astropy.utils.data import get_pkg_data_filename\n",
    "from astropy.io import ascii,fits\n",
    "import pandas as pd\n",
    "\n",
    "\n",
    "from pfsspecsim import pfsetc\n",
    "from pfsspecsim import pfsspec\n",
    "\n",
    "\n",
    "# Please specify a place where the codes are located \n",
    "pfs_calibstars_dir = '/Users/ishigakimiho/PFS/Github/pfs_calibstars'\n",
    "sys.path.append(pfs_calibstars_dir)\n",
    "\n",
    "\n",
    "database_dir = \"../../pfs_calibstars_data/database\"\n",
    "output_dir = \"../../pfs_calibstars_data/outputs\"\n",
    "\n",
    "import pfs_calibstars as cs\n",
    "\n",
    "\n"
   ]
  },
  {
   "cell_type": "markdown",
   "metadata": {},
   "source": [
    "## Create databases of simulated spectra "
   ]
  },
  {
   "cell_type": "code",
   "execution_count": 14,
   "metadata": {},
   "outputs": [
    {
     "name": "stdout",
     "output_type": "stream",
     "text": [
      "['Name of the object 00081 => BD+292356']\n"
     ]
    },
    {
     "name": "stderr",
     "output_type": "stream",
     "text": [
      "/Users/ishigakimiho/opt/anaconda3/lib/python3.7/site-packages/astropy/units/function/logarithmic.py:46: RuntimeWarning: divide by zero encountered in log10\n",
      "  return dex.to(self._function_unit, np.log10(x))\n"
     ]
    },
    {
     "name": "stdout",
     "output_type": "stream",
     "text": [
      "##### starting to run ETC ... (it takes a few min.) #####\n",
      "##### finished (elapsed_time: 62.6[sec]) #####\n",
      "##### starting to run ETC ... (it takes a few min.) #####\n",
      "##### finished (elapsed_time: 61.9[sec]) #####\n",
      "##### starting to run ETC ... (it takes a few min.) #####\n",
      "##### finished (elapsed_time: 61.0[sec]) #####\n",
      "##### starting to run ETC ... (it takes a few min.) #####\n",
      "##### finished (elapsed_time: 60.6[sec]) #####\n",
      "['Name of the object 00092 => G53-41']\n"
     ]
    },
    {
     "name": "stderr",
     "output_type": "stream",
     "text": [
      "/Users/ishigakimiho/opt/anaconda3/lib/python3.7/site-packages/astropy/units/function/logarithmic.py:46: RuntimeWarning: divide by zero encountered in log10\n",
      "  return dex.to(self._function_unit, np.log10(x))\n"
     ]
    },
    {
     "name": "stdout",
     "output_type": "stream",
     "text": [
      "##### starting to run ETC ... (it takes a few min.) #####\n",
      "##### finished (elapsed_time: 62.8[sec]) #####\n",
      "##### starting to run ETC ... (it takes a few min.) #####\n",
      "##### finished (elapsed_time: 62.1[sec]) #####\n",
      "##### starting to run ETC ... (it takes a few min.) #####\n",
      "##### finished (elapsed_time: 61.5[sec]) #####\n",
      "##### starting to run ETC ... (it takes a few min.) #####\n",
      "##### finished (elapsed_time: 66.3[sec]) #####\n"
     ]
    },
    {
     "data": {
      "text/plain": [
       "()"
      ]
     },
     "execution_count": 14,
     "metadata": {},
     "output_type": "execute_result"
    }
   ],
   "source": [
    "libID = \"HDS\"\n",
    "cs.produce_database(database_dir, libID)\n"
   ]
  },
  {
   "cell_type": "markdown",
   "metadata": {},
   "source": [
    "## Produce many simulated spectra "
   ]
  },
  {
   "cell_type": "code",
   "execution_count": null,
   "metadata": {},
   "outputs": [
    {
     "name": "stdout",
     "output_type": "stream",
     "text": [
      "##### starting to run ETC ... (it takes a few min.) #####\n",
      "##### finished (elapsed_time: 69.1[sec]) #####\n"
     ]
    },
    {
     "name": "stderr",
     "output_type": "stream",
     "text": [
      "WARNING: Source spectrum will be extrapolated (at constant value for empirical model). [synphot.observation]\n",
      "/Users/ishigakimiho/opt/anaconda3/lib/python3.7/site-packages/astropy/units/function/logarithmic.py:46: RuntimeWarning: divide by zero encountered in log10\n",
      "  return dex.to(self._function_unit, np.log10(x))\n"
     ]
    },
    {
     "name": "stdout",
     "output_type": "stream",
     "text": [
      "##### starting to run ETC ... (it takes a few min.) #####\n",
      "##### finished (elapsed_time: 67.7[sec]) #####\n"
     ]
    },
    {
     "name": "stderr",
     "output_type": "stream",
     "text": [
      "WARNING: Source spectrum will be extrapolated (at constant value for empirical model). [synphot.observation]\n",
      "/Users/ishigakimiho/opt/anaconda3/lib/python3.7/site-packages/astropy/units/function/logarithmic.py:46: RuntimeWarning: divide by zero encountered in log10\n",
      "  return dex.to(self._function_unit, np.log10(x))\n"
     ]
    },
    {
     "name": "stdout",
     "output_type": "stream",
     "text": [
      "##### starting to run ETC ... (it takes a few min.) #####\n",
      "##### finished (elapsed_time: 66.6[sec]) #####\n"
     ]
    },
    {
     "name": "stderr",
     "output_type": "stream",
     "text": [
      "WARNING: Source spectrum will be extrapolated (at constant value for empirical model). [synphot.observation]\n",
      "/Users/ishigakimiho/opt/anaconda3/lib/python3.7/site-packages/astropy/units/function/logarithmic.py:46: RuntimeWarning: divide by zero encountered in log10\n",
      "  return dex.to(self._function_unit, np.log10(x))\n"
     ]
    },
    {
     "name": "stdout",
     "output_type": "stream",
     "text": [
      "##### starting to run ETC ... (it takes a few min.) #####\n",
      "##### finished (elapsed_time: 70.1[sec]) #####\n"
     ]
    },
    {
     "name": "stderr",
     "output_type": "stream",
     "text": [
      "WARNING: Source spectrum will be extrapolated (at constant value for empirical model). [synphot.observation]\n",
      "/Users/ishigakimiho/opt/anaconda3/lib/python3.7/site-packages/astropy/units/function/logarithmic.py:46: RuntimeWarning: divide by zero encountered in log10\n",
      "  return dex.to(self._function_unit, np.log10(x))\n"
     ]
    },
    {
     "name": "stdout",
     "output_type": "stream",
     "text": [
      "##### starting to run ETC ... (it takes a few min.) #####\n",
      "##### finished (elapsed_time: 78.4[sec]) #####\n"
     ]
    },
    {
     "name": "stderr",
     "output_type": "stream",
     "text": [
      "WARNING: Source spectrum will be extrapolated (at constant value for empirical model). [synphot.observation]\n",
      "/Users/ishigakimiho/opt/anaconda3/lib/python3.7/site-packages/astropy/units/function/logarithmic.py:46: RuntimeWarning: divide by zero encountered in log10\n",
      "  return dex.to(self._function_unit, np.log10(x))\n"
     ]
    },
    {
     "name": "stdout",
     "output_type": "stream",
     "text": [
      "##### starting to run ETC ... (it takes a few min.) #####\n",
      "##### finished (elapsed_time: 71.0[sec]) #####\n"
     ]
    },
    {
     "name": "stderr",
     "output_type": "stream",
     "text": [
      "WARNING: Source spectrum will be extrapolated (at constant value for empirical model). [synphot.observation]\n",
      "/Users/ishigakimiho/opt/anaconda3/lib/python3.7/site-packages/astropy/units/function/logarithmic.py:46: RuntimeWarning: divide by zero encountered in log10\n",
      "  return dex.to(self._function_unit, np.log10(x))\n"
     ]
    },
    {
     "name": "stdout",
     "output_type": "stream",
     "text": [
      "##### starting to run ETC ... (it takes a few min.) #####\n"
     ]
    }
   ],
   "source": [
    "libID = \"HDS\"\n",
    "nreal = 100\n",
    "\n",
    "ObjIDs = [\"00092\", \"00081\"]\n",
    "\n",
    "band = \"sdss_g\"\n",
    "\n",
    "for ObjID in ObjIDs:\n",
    "    \n",
    "    for mag in [17., 18., 19., 20., 21., 22., 23.]: \n",
    "        \n",
    "        exptime, nexp = cs.get_exptime(\"sdss_g\", mag, \"science\")\n",
    "        nexps = [nexp]\n",
    "\n",
    "        cs.simulate_many_spectra(ObjID, libID, nexps, band, mag, nreal, \\\n",
    "                                 database_dir, output_dir, setting = \"Optimistic\", \\\n",
    "                                 write_h5 = True)\n"
   ]
  },
  {
   "cell_type": "code",
   "execution_count": null,
   "metadata": {},
   "outputs": [],
   "source": []
  }
 ],
 "metadata": {
  "kernelspec": {
   "display_name": "Python 3",
   "language": "python",
   "name": "python3"
  },
  "language_info": {
   "codemirror_mode": {
    "name": "ipython",
    "version": 3
   },
   "file_extension": ".py",
   "mimetype": "text/x-python",
   "name": "python",
   "nbconvert_exporter": "python",
   "pygments_lexer": "ipython3",
   "version": "3.7.6"
  }
 },
 "nbformat": 4,
 "nbformat_minor": 2
}
