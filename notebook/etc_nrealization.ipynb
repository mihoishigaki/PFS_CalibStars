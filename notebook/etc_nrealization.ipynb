{
 "cells": [
  {
   "cell_type": "code",
   "execution_count": 2,
   "metadata": {},
   "outputs": [
    {
     "name": "stdout",
     "output_type": "stream",
     "text": [
      "The autoreload extension is already loaded. To reload it, use:\n",
      "  %reload_ext autoreload\n"
     ]
    }
   ],
   "source": [
    "%matplotlib inline\n",
    "\n",
    "%load_ext autoreload\n",
    "%autoreload 2\n",
    "\n",
    "import os, glob,sys,pprint\n",
    "import numpy as np\n",
    "import matplotlib.pyplot as plt\n",
    "\n",
    "\n",
    "import synphot\n",
    "from astropy.utils.data import get_pkg_data_filename\n",
    "from astropy.io import ascii,fits\n",
    "import pandas as pd\n",
    "\n",
    "\n",
    "from pfsspecsim import pfsetc\n",
    "from pfsspecsim import pfsspec\n",
    "\n",
    "\n",
    "# Please specify a place where the codes are located \n",
    "\n",
    "pfs_calibstars_dir = '/Users/ishigakimiho/PFS/Github/pfs_calibstars'\n",
    "sys.path.append(pfs_calibstars_dir)\n",
    "\n",
    "\n",
    "import pfs_calibstars as cs\n",
    "\n",
    "\n"
   ]
  },
  {
   "cell_type": "markdown",
   "metadata": {},
   "source": [
    "## Preparation"
   ]
  },
  {
   "cell_type": "code",
   "execution_count": 20,
   "metadata": {},
   "outputs": [
    {
     "data": {
      "text/html": [
       "<div>\n",
       "<style scoped>\n",
       "    .dataframe tbody tr th:only-of-type {\n",
       "        vertical-align: middle;\n",
       "    }\n",
       "\n",
       "    .dataframe tbody tr th {\n",
       "        vertical-align: top;\n",
       "    }\n",
       "\n",
       "    .dataframe thead th {\n",
       "        text-align: right;\n",
       "    }\n",
       "</style>\n",
       "<table border=\"1\" class=\"dataframe\">\n",
       "  <thead>\n",
       "    <tr style=\"text-align: right;\">\n",
       "      <th></th>\n",
       "      <th>starname</th>\n",
       "      <th>ra</th>\n",
       "      <th>dec</th>\n",
       "      <th>Vmag</th>\n",
       "      <th>Kmag</th>\n",
       "      <th>teff</th>\n",
       "      <th>logg</th>\n",
       "      <th>feh</th>\n",
       "      <th>alpha</th>\n",
       "      <th>synfilepath</th>\n",
       "    </tr>\n",
       "  </thead>\n",
       "  <tbody>\n",
       "    <tr>\n",
       "      <th>0</th>\n",
       "      <td>0000000000000001</td>\n",
       "      <td>195.468455</td>\n",
       "      <td>29.188315</td>\n",
       "      <td>11.5</td>\n",
       "      <td>9.049</td>\n",
       "      <td>4800.0</td>\n",
       "      <td>1.6</td>\n",
       "      <td>-2.5</td>\n",
       "      <td>0.0</td>\n",
       "      <td>/Users/ishigakimiho/PFS/Github/pfs_calibstars_...</td>\n",
       "    </tr>\n",
       "    <tr>\n",
       "      <th>1</th>\n",
       "      <td>0000000000000002</td>\n",
       "      <td>195.468455</td>\n",
       "      <td>29.188315</td>\n",
       "      <td>11.5</td>\n",
       "      <td>9.049</td>\n",
       "      <td>4800.0</td>\n",
       "      <td>1.6</td>\n",
       "      <td>-2.0</td>\n",
       "      <td>0.0</td>\n",
       "      <td>/Users/ishigakimiho/PFS/Github/pfs_calibstars_...</td>\n",
       "    </tr>\n",
       "    <tr>\n",
       "      <th>2</th>\n",
       "      <td>0000000000000003</td>\n",
       "      <td>195.468455</td>\n",
       "      <td>29.188315</td>\n",
       "      <td>11.5</td>\n",
       "      <td>9.049</td>\n",
       "      <td>4800.0</td>\n",
       "      <td>1.6</td>\n",
       "      <td>-1.5</td>\n",
       "      <td>0.0</td>\n",
       "      <td>/Users/ishigakimiho/PFS/Github/pfs_calibstars_...</td>\n",
       "    </tr>\n",
       "    <tr>\n",
       "      <th>3</th>\n",
       "      <td>0000000000000004</td>\n",
       "      <td>195.468455</td>\n",
       "      <td>29.188315</td>\n",
       "      <td>11.5</td>\n",
       "      <td>9.049</td>\n",
       "      <td>4800.0</td>\n",
       "      <td>1.6</td>\n",
       "      <td>-1.0</td>\n",
       "      <td>0.0</td>\n",
       "      <td>/Users/ishigakimiho/PFS/Github/pfs_calibstars_...</td>\n",
       "    </tr>\n",
       "    <tr>\n",
       "      <th>4</th>\n",
       "      <td>0000000000000005</td>\n",
       "      <td>195.468455</td>\n",
       "      <td>29.188315</td>\n",
       "      <td>11.5</td>\n",
       "      <td>9.049</td>\n",
       "      <td>4800.0</td>\n",
       "      <td>1.6</td>\n",
       "      <td>-0.5</td>\n",
       "      <td>0.0</td>\n",
       "      <td>/Users/ishigakimiho/PFS/Github/pfs_calibstars_...</td>\n",
       "    </tr>\n",
       "    <tr>\n",
       "      <th>5</th>\n",
       "      <td>00000000000003e9</td>\n",
       "      <td>156.851026</td>\n",
       "      <td>1.400053</td>\n",
       "      <td>11.1</td>\n",
       "      <td>9.595</td>\n",
       "      <td>6000.0</td>\n",
       "      <td>4.5</td>\n",
       "      <td>-2.5</td>\n",
       "      <td>0.0</td>\n",
       "      <td>/Users/ishigakimiho/PFS/Github/pfs_calibstars_...</td>\n",
       "    </tr>\n",
       "    <tr>\n",
       "      <th>6</th>\n",
       "      <td>00000000000003ea</td>\n",
       "      <td>156.851026</td>\n",
       "      <td>1.400053</td>\n",
       "      <td>11.1</td>\n",
       "      <td>9.595</td>\n",
       "      <td>6000.0</td>\n",
       "      <td>4.5</td>\n",
       "      <td>-2.0</td>\n",
       "      <td>0.0</td>\n",
       "      <td>/Users/ishigakimiho/PFS/Github/pfs_calibstars_...</td>\n",
       "    </tr>\n",
       "    <tr>\n",
       "      <th>7</th>\n",
       "      <td>00000000000003eb</td>\n",
       "      <td>156.851026</td>\n",
       "      <td>1.400053</td>\n",
       "      <td>11.1</td>\n",
       "      <td>9.595</td>\n",
       "      <td>6000.0</td>\n",
       "      <td>4.5</td>\n",
       "      <td>-1.5</td>\n",
       "      <td>0.0</td>\n",
       "      <td>/Users/ishigakimiho/PFS/Github/pfs_calibstars_...</td>\n",
       "    </tr>\n",
       "    <tr>\n",
       "      <th>8</th>\n",
       "      <td>00000000000003ec</td>\n",
       "      <td>156.851026</td>\n",
       "      <td>1.400053</td>\n",
       "      <td>11.1</td>\n",
       "      <td>9.595</td>\n",
       "      <td>6000.0</td>\n",
       "      <td>4.5</td>\n",
       "      <td>-1.0</td>\n",
       "      <td>0.0</td>\n",
       "      <td>/Users/ishigakimiho/PFS/Github/pfs_calibstars_...</td>\n",
       "    </tr>\n",
       "    <tr>\n",
       "      <th>9</th>\n",
       "      <td>00000000000003ed</td>\n",
       "      <td>156.851026</td>\n",
       "      <td>1.400053</td>\n",
       "      <td>11.1</td>\n",
       "      <td>9.595</td>\n",
       "      <td>6000.0</td>\n",
       "      <td>4.5</td>\n",
       "      <td>-0.5</td>\n",
       "      <td>0.0</td>\n",
       "      <td>/Users/ishigakimiho/PFS/Github/pfs_calibstars_...</td>\n",
       "    </tr>\n",
       "  </tbody>\n",
       "</table>\n",
       "</div>"
      ],
      "text/plain": [
       "           starname          ra        dec  Vmag   Kmag    teff  logg  feh  \\\n",
       "0  0000000000000001  195.468455  29.188315  11.5  9.049  4800.0   1.6 -2.5   \n",
       "1  0000000000000002  195.468455  29.188315  11.5  9.049  4800.0   1.6 -2.0   \n",
       "2  0000000000000003  195.468455  29.188315  11.5  9.049  4800.0   1.6 -1.5   \n",
       "3  0000000000000004  195.468455  29.188315  11.5  9.049  4800.0   1.6 -1.0   \n",
       "4  0000000000000005  195.468455  29.188315  11.5  9.049  4800.0   1.6 -0.5   \n",
       "5  00000000000003e9  156.851026   1.400053  11.1  9.595  6000.0   4.5 -2.5   \n",
       "6  00000000000003ea  156.851026   1.400053  11.1  9.595  6000.0   4.5 -2.0   \n",
       "7  00000000000003eb  156.851026   1.400053  11.1  9.595  6000.0   4.5 -1.5   \n",
       "8  00000000000003ec  156.851026   1.400053  11.1  9.595  6000.0   4.5 -1.0   \n",
       "9  00000000000003ed  156.851026   1.400053  11.1  9.595  6000.0   4.5 -0.5   \n",
       "\n",
       "   alpha                                        synfilepath  \n",
       "0    0.0  /Users/ishigakimiho/PFS/Github/pfs_calibstars_...  \n",
       "1    0.0  /Users/ishigakimiho/PFS/Github/pfs_calibstars_...  \n",
       "2    0.0  /Users/ishigakimiho/PFS/Github/pfs_calibstars_...  \n",
       "3    0.0  /Users/ishigakimiho/PFS/Github/pfs_calibstars_...  \n",
       "4    0.0  /Users/ishigakimiho/PFS/Github/pfs_calibstars_...  \n",
       "5    0.0  /Users/ishigakimiho/PFS/Github/pfs_calibstars_...  \n",
       "6    0.0  /Users/ishigakimiho/PFS/Github/pfs_calibstars_...  \n",
       "7    0.0  /Users/ishigakimiho/PFS/Github/pfs_calibstars_...  \n",
       "8    0.0  /Users/ishigakimiho/PFS/Github/pfs_calibstars_...  \n",
       "9    0.0  /Users/ishigakimiho/PFS/Github/pfs_calibstars_...  "
      ]
     },
     "execution_count": 20,
     "metadata": {},
     "output_type": "execute_result"
    }
   ],
   "source": [
    "# Set output directory \n",
    "\n",
    "output_dir = \"../../pfs_calibstars_data/outputs/Synspec\"\n",
    "\n",
    "\n",
    "# Please prepare for a comma-separated table like this. \n",
    "#\n",
    "#    * The header should be the same as below\n",
    "#    * The column \"synfilepath\" should specifiy a path to the synthetic spectrum of a given star\n",
    "#\n",
    "\n",
    "catalogfile = \"../catalogs/Synspec/catalog_Synspec.csv\"\n",
    "df = pd.read_csv(catalog_name, dtype = {'synfilepath': str})\n",
    "df"
   ]
  },
  {
   "cell_type": "markdown",
   "metadata": {},
   "source": [
    "## Produce many simulated spectra "
   ]
  },
  {
   "cell_type": "code",
   "execution_count": null,
   "metadata": {},
   "outputs": [
    {
     "name": "stdout",
     "output_type": "stream",
     "text": [
      "/Users/ishigakimiho/PFS/Github/pfs_calibstars_data/database/Synspec/K-giant_teff4800-logg1.6-feh-2.5-alpha0.0.txt\n"
     ]
    },
    {
     "name": "stderr",
     "output_type": "stream",
     "text": [
      "WARNING: Source spectrum will be extrapolated (at constant value for empirical model). [synphot.observation]\n"
     ]
    },
    {
     "name": "stdout",
     "output_type": "stream",
     "text": [
      "##### starting to run ETC ... (it takes a few min.) #####\n",
      "##### finished (elapsed_time: 58.1[sec]) #####\n"
     ]
    },
    {
     "name": "stderr",
     "output_type": "stream",
     "text": [
      "WARNING: Source spectrum will be extrapolated (at constant value for empirical model). [synphot.observation]\n"
     ]
    },
    {
     "name": "stdout",
     "output_type": "stream",
     "text": [
      "##### starting to run ETC ... (it takes a few min.) #####\n",
      "##### finished (elapsed_time: 60.0[sec]) #####\n"
     ]
    },
    {
     "name": "stderr",
     "output_type": "stream",
     "text": [
      "WARNING: Source spectrum will be extrapolated (at constant value for empirical model). [synphot.observation]\n"
     ]
    },
    {
     "name": "stdout",
     "output_type": "stream",
     "text": [
      "##### starting to run ETC ... (it takes a few min.) #####\n",
      "##### finished (elapsed_time: 60.3[sec]) #####\n"
     ]
    },
    {
     "name": "stderr",
     "output_type": "stream",
     "text": [
      "WARNING: Source spectrum will be extrapolated (at constant value for empirical model). [synphot.observation]\n"
     ]
    },
    {
     "name": "stdout",
     "output_type": "stream",
     "text": [
      "##### starting to run ETC ... (it takes a few min.) #####\n",
      "##### finished (elapsed_time: 60.3[sec]) #####\n",
      "/Users/ishigakimiho/PFS/Github/pfs_calibstars_data/database/Synspec/K-giant_teff4800-logg1.6-feh-2.0-alpha0.0.txt\n"
     ]
    },
    {
     "name": "stderr",
     "output_type": "stream",
     "text": [
      "WARNING: Source spectrum will be extrapolated (at constant value for empirical model). [synphot.observation]\n"
     ]
    },
    {
     "name": "stdout",
     "output_type": "stream",
     "text": [
      "##### starting to run ETC ... (it takes a few min.) #####\n",
      "##### finished (elapsed_time: 59.6[sec]) #####\n"
     ]
    },
    {
     "name": "stderr",
     "output_type": "stream",
     "text": [
      "WARNING: Source spectrum will be extrapolated (at constant value for empirical model). [synphot.observation]\n"
     ]
    },
    {
     "name": "stdout",
     "output_type": "stream",
     "text": [
      "##### starting to run ETC ... (it takes a few min.) #####\n",
      "##### finished (elapsed_time: 60.3[sec]) #####\n"
     ]
    },
    {
     "name": "stderr",
     "output_type": "stream",
     "text": [
      "WARNING: Source spectrum will be extrapolated (at constant value for empirical model). [synphot.observation]\n"
     ]
    },
    {
     "name": "stdout",
     "output_type": "stream",
     "text": [
      "##### starting to run ETC ... (it takes a few min.) #####\n",
      "##### finished (elapsed_time: 60.8[sec]) #####\n"
     ]
    },
    {
     "name": "stderr",
     "output_type": "stream",
     "text": [
      "WARNING: Source spectrum will be extrapolated (at constant value for empirical model). [synphot.observation]\n"
     ]
    },
    {
     "name": "stdout",
     "output_type": "stream",
     "text": [
      "##### starting to run ETC ... (it takes a few min.) #####\n",
      "##### finished (elapsed_time: 60.7[sec]) #####\n",
      "/Users/ishigakimiho/PFS/Github/pfs_calibstars_data/database/Synspec/K-giant_teff4800-logg1.6-feh-1.5-alpha0.0.txt\n"
     ]
    },
    {
     "name": "stderr",
     "output_type": "stream",
     "text": [
      "WARNING: Source spectrum will be extrapolated (at constant value for empirical model). [synphot.observation]\n"
     ]
    },
    {
     "name": "stdout",
     "output_type": "stream",
     "text": [
      "##### starting to run ETC ... (it takes a few min.) #####\n",
      "##### finished (elapsed_time: 59.2[sec]) #####\n"
     ]
    },
    {
     "name": "stderr",
     "output_type": "stream",
     "text": [
      "WARNING: Source spectrum will be extrapolated (at constant value for empirical model). [synphot.observation]\n"
     ]
    },
    {
     "name": "stdout",
     "output_type": "stream",
     "text": [
      "##### starting to run ETC ... (it takes a few min.) #####\n",
      "##### finished (elapsed_time: 60.9[sec]) #####\n"
     ]
    },
    {
     "name": "stderr",
     "output_type": "stream",
     "text": [
      "WARNING: Source spectrum will be extrapolated (at constant value for empirical model). [synphot.observation]\n"
     ]
    },
    {
     "name": "stdout",
     "output_type": "stream",
     "text": [
      "##### starting to run ETC ... (it takes a few min.) #####\n",
      "##### finished (elapsed_time: 61.4[sec]) #####\n"
     ]
    },
    {
     "name": "stderr",
     "output_type": "stream",
     "text": [
      "WARNING: Source spectrum will be extrapolated (at constant value for empirical model). [synphot.observation]\n"
     ]
    },
    {
     "name": "stdout",
     "output_type": "stream",
     "text": [
      "##### starting to run ETC ... (it takes a few min.) #####\n",
      "##### finished (elapsed_time: 61.2[sec]) #####\n",
      "/Users/ishigakimiho/PFS/Github/pfs_calibstars_data/database/Synspec/K-giant_teff4800-logg1.6-feh-1.0-alpha0.0.txt\n"
     ]
    },
    {
     "name": "stderr",
     "output_type": "stream",
     "text": [
      "WARNING: Source spectrum will be extrapolated (at constant value for empirical model). [synphot.observation]\n"
     ]
    },
    {
     "name": "stdout",
     "output_type": "stream",
     "text": [
      "##### starting to run ETC ... (it takes a few min.) #####\n",
      "##### finished (elapsed_time: 60.7[sec]) #####\n"
     ]
    },
    {
     "name": "stderr",
     "output_type": "stream",
     "text": [
      "WARNING: Source spectrum will be extrapolated (at constant value for empirical model). [synphot.observation]\n"
     ]
    },
    {
     "name": "stdout",
     "output_type": "stream",
     "text": [
      "##### starting to run ETC ... (it takes a few min.) #####\n",
      "##### finished (elapsed_time: 67.4[sec]) #####\n"
     ]
    },
    {
     "name": "stderr",
     "output_type": "stream",
     "text": [
      "WARNING: Source spectrum will be extrapolated (at constant value for empirical model). [synphot.observation]\n"
     ]
    },
    {
     "name": "stdout",
     "output_type": "stream",
     "text": [
      "##### starting to run ETC ... (it takes a few min.) #####\n",
      "##### finished (elapsed_time: 64.0[sec]) #####\n"
     ]
    },
    {
     "name": "stderr",
     "output_type": "stream",
     "text": [
      "WARNING: Source spectrum will be extrapolated (at constant value for empirical model). [synphot.observation]\n"
     ]
    },
    {
     "name": "stdout",
     "output_type": "stream",
     "text": [
      "##### starting to run ETC ... (it takes a few min.) #####\n",
      "##### finished (elapsed_time: 63.2[sec]) #####\n",
      "/Users/ishigakimiho/PFS/Github/pfs_calibstars_data/database/Synspec/K-giant_teff4800-logg1.6-feh-0.5-alpha0.0.txt\n"
     ]
    },
    {
     "name": "stderr",
     "output_type": "stream",
     "text": [
      "WARNING: Source spectrum will be extrapolated (at constant value for empirical model). [synphot.observation]\n"
     ]
    },
    {
     "name": "stdout",
     "output_type": "stream",
     "text": [
      "##### starting to run ETC ... (it takes a few min.) #####\n",
      "##### finished (elapsed_time: 60.8[sec]) #####\n"
     ]
    },
    {
     "name": "stderr",
     "output_type": "stream",
     "text": [
      "WARNING: Source spectrum will be extrapolated (at constant value for empirical model). [synphot.observation]\n"
     ]
    },
    {
     "name": "stdout",
     "output_type": "stream",
     "text": [
      "##### starting to run ETC ... (it takes a few min.) #####\n",
      "##### finished (elapsed_time: 60.7[sec]) #####\n"
     ]
    },
    {
     "name": "stderr",
     "output_type": "stream",
     "text": [
      "WARNING: Source spectrum will be extrapolated (at constant value for empirical model). [synphot.observation]\n"
     ]
    },
    {
     "name": "stdout",
     "output_type": "stream",
     "text": [
      "##### starting to run ETC ... (it takes a few min.) #####\n",
      "##### finished (elapsed_time: 62.5[sec]) #####\n"
     ]
    },
    {
     "name": "stderr",
     "output_type": "stream",
     "text": [
      "WARNING: Source spectrum will be extrapolated (at constant value for empirical model). [synphot.observation]\n"
     ]
    },
    {
     "name": "stdout",
     "output_type": "stream",
     "text": [
      "##### starting to run ETC ... (it takes a few min.) #####\n",
      "##### finished (elapsed_time: 67.6[sec]) #####\n",
      "/Users/ishigakimiho/PFS/Github/pfs_calibstars_data/database/Synspec/G-dwarf_teff6000-logg4.5-feh-2.5-alpha0.0.txt\n"
     ]
    },
    {
     "name": "stderr",
     "output_type": "stream",
     "text": [
      "WARNING: Source spectrum will be extrapolated (at constant value for empirical model). [synphot.observation]\n"
     ]
    },
    {
     "name": "stdout",
     "output_type": "stream",
     "text": [
      "##### starting to run ETC ... (it takes a few min.) #####\n",
      "##### finished (elapsed_time: 62.6[sec]) #####\n"
     ]
    },
    {
     "name": "stderr",
     "output_type": "stream",
     "text": [
      "WARNING: Source spectrum will be extrapolated (at constant value for empirical model). [synphot.observation]\n"
     ]
    },
    {
     "name": "stdout",
     "output_type": "stream",
     "text": [
      "##### starting to run ETC ... (it takes a few min.) #####\n",
      "##### finished (elapsed_time: 62.2[sec]) #####\n"
     ]
    },
    {
     "name": "stderr",
     "output_type": "stream",
     "text": [
      "WARNING: Source spectrum will be extrapolated (at constant value for empirical model). [synphot.observation]\n"
     ]
    },
    {
     "name": "stdout",
     "output_type": "stream",
     "text": [
      "##### starting to run ETC ... (it takes a few min.) #####\n",
      "##### finished (elapsed_time: 61.1[sec]) #####\n"
     ]
    },
    {
     "name": "stderr",
     "output_type": "stream",
     "text": [
      "WARNING: Source spectrum will be extrapolated (at constant value for empirical model). [synphot.observation]\n"
     ]
    },
    {
     "name": "stdout",
     "output_type": "stream",
     "text": [
      "##### starting to run ETC ... (it takes a few min.) #####\n",
      "##### finished (elapsed_time: 60.6[sec]) #####\n",
      "/Users/ishigakimiho/PFS/Github/pfs_calibstars_data/database/Synspec/G-dwarf_teff6000-logg4.5-feh-2.0-alpha0.0.txt\n"
     ]
    },
    {
     "name": "stderr",
     "output_type": "stream",
     "text": [
      "WARNING: Source spectrum will be extrapolated (at constant value for empirical model). [synphot.observation]\n"
     ]
    },
    {
     "name": "stdout",
     "output_type": "stream",
     "text": [
      "##### starting to run ETC ... (it takes a few min.) #####\n",
      "##### finished (elapsed_time: 58.3[sec]) #####\n"
     ]
    },
    {
     "name": "stderr",
     "output_type": "stream",
     "text": [
      "WARNING: Source spectrum will be extrapolated (at constant value for empirical model). [synphot.observation]\n"
     ]
    },
    {
     "name": "stdout",
     "output_type": "stream",
     "text": [
      "##### starting to run ETC ... (it takes a few min.) #####\n",
      "##### finished (elapsed_time: 58.3[sec]) #####\n"
     ]
    },
    {
     "name": "stderr",
     "output_type": "stream",
     "text": [
      "WARNING: Source spectrum will be extrapolated (at constant value for empirical model). [synphot.observation]\n"
     ]
    },
    {
     "name": "stdout",
     "output_type": "stream",
     "text": [
      "##### starting to run ETC ... (it takes a few min.) #####\n",
      "##### finished (elapsed_time: 59.0[sec]) #####\n"
     ]
    },
    {
     "name": "stderr",
     "output_type": "stream",
     "text": [
      "WARNING: Source spectrum will be extrapolated (at constant value for empirical model). [synphot.observation]\n"
     ]
    },
    {
     "name": "stdout",
     "output_type": "stream",
     "text": [
      "##### starting to run ETC ... (it takes a few min.) #####\n",
      "##### finished (elapsed_time: 59.2[sec]) #####\n",
      "/Users/ishigakimiho/PFS/Github/pfs_calibstars_data/database/Synspec/G-dwarf_teff6000-logg4.5-feh-1.5-alpha0.0.txt\n"
     ]
    },
    {
     "name": "stderr",
     "output_type": "stream",
     "text": [
      "WARNING: Source spectrum will be extrapolated (at constant value for empirical model). [synphot.observation]\n"
     ]
    },
    {
     "name": "stdout",
     "output_type": "stream",
     "text": [
      "##### starting to run ETC ... (it takes a few min.) #####\n",
      "##### finished (elapsed_time: 60.1[sec]) #####\n"
     ]
    },
    {
     "name": "stderr",
     "output_type": "stream",
     "text": [
      "WARNING: Source spectrum will be extrapolated (at constant value for empirical model). [synphot.observation]\n"
     ]
    },
    {
     "name": "stdout",
     "output_type": "stream",
     "text": [
      "##### starting to run ETC ... (it takes a few min.) #####\n",
      "##### finished (elapsed_time: 59.0[sec]) #####\n"
     ]
    },
    {
     "name": "stderr",
     "output_type": "stream",
     "text": [
      "WARNING: Source spectrum will be extrapolated (at constant value for empirical model). [synphot.observation]\n"
     ]
    },
    {
     "name": "stdout",
     "output_type": "stream",
     "text": [
      "##### starting to run ETC ... (it takes a few min.) #####\n",
      "##### finished (elapsed_time: 59.4[sec]) #####\n"
     ]
    },
    {
     "name": "stderr",
     "output_type": "stream",
     "text": [
      "WARNING: Source spectrum will be extrapolated (at constant value for empirical model). [synphot.observation]\n"
     ]
    },
    {
     "name": "stdout",
     "output_type": "stream",
     "text": [
      "##### starting to run ETC ... (it takes a few min.) #####\n",
      "##### finished (elapsed_time: 60.4[sec]) #####\n",
      "/Users/ishigakimiho/PFS/Github/pfs_calibstars_data/database/Synspec/G-dwarf_teff6000-logg4.5-feh-1.0-alpha0.0.txt\n"
     ]
    },
    {
     "name": "stderr",
     "output_type": "stream",
     "text": [
      "WARNING: Source spectrum will be extrapolated (at constant value for empirical model). [synphot.observation]\n"
     ]
    },
    {
     "name": "stdout",
     "output_type": "stream",
     "text": [
      "##### starting to run ETC ... (it takes a few min.) #####\n",
      "##### finished (elapsed_time: 60.8[sec]) #####\n"
     ]
    },
    {
     "name": "stderr",
     "output_type": "stream",
     "text": [
      "WARNING: Source spectrum will be extrapolated (at constant value for empirical model). [synphot.observation]\n"
     ]
    },
    {
     "name": "stdout",
     "output_type": "stream",
     "text": [
      "##### starting to run ETC ... (it takes a few min.) #####\n",
      "##### finished (elapsed_time: 60.1[sec]) #####\n"
     ]
    },
    {
     "name": "stderr",
     "output_type": "stream",
     "text": [
      "WARNING: Source spectrum will be extrapolated (at constant value for empirical model). [synphot.observation]\n"
     ]
    },
    {
     "name": "stdout",
     "output_type": "stream",
     "text": [
      "##### starting to run ETC ... (it takes a few min.) #####\n"
     ]
    }
   ],
   "source": [
    "# Get a list of stars\n",
    "ObjIDs = df[\"starname\"].values\n",
    "\n",
    "\n",
    "# Photometric band for magnitudes. At the moment only \"sdss_g\" is acceptable.\n",
    "band = \"sdss_g\"\n",
    "\n",
    "\n",
    "# Number of realizations of simulated spectra\n",
    "nreal = 10\n",
    "\n",
    "\n",
    "\n",
    "\n",
    "for ObjID in ObjIDs:\n",
    "    \n",
    "    synfile = ((df[\"synfilepath\"][df[\"starname\"] == ObjID]).values)[0]\n",
    "\n",
    "    print(synfile)\n",
    "    for mag in [17., 18., 19., 20.]: \n",
    "        \n",
    "        exptime, nexp = cs.get_exptime(\"sdss_g\", mag, \"science\")\n",
    "        nexps = [nexp]\n",
    "\n",
    "        \n",
    "        cs.simulate_many_spectra(ObjID, catalogfile, nexps, band, mag, nreal, \\\n",
    "                                 synfile, output_dir, setting = \"Optimistic\", \\\n",
    "                                 write_h5 = False)\n"
   ]
  },
  {
   "cell_type": "markdown",
   "metadata": {},
   "source": []
  }
 ],
 "metadata": {
  "kernelspec": {
   "display_name": "Python 3",
   "language": "python",
   "name": "python3"
  },
  "language_info": {
   "codemirror_mode": {
    "name": "ipython",
    "version": 3
   },
   "file_extension": ".py",
   "mimetype": "text/x-python",
   "name": "python",
   "nbconvert_exporter": "python",
   "pygments_lexer": "ipython3",
   "version": "3.7.8"
  }
 },
 "nbformat": 4,
 "nbformat_minor": 2
}
